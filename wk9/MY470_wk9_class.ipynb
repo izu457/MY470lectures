{
 "cells": [
  {
   "cell_type": "markdown",
   "metadata": {
    "slideshow": {
     "slide_type": "slide"
    }
   },
   "source": [
    "### MY470 Computer Programming\n",
    "# Order of Growth\n",
    "### Week 9 Lab"
   ]
  },
  {
   "cell_type": "markdown",
   "metadata": {
    "slideshow": {
     "slide_type": "slide"
    }
   },
   "source": [
    "![Big-O Comparison](figs/big-o-table.png \"Big-O Comparison\")"
   ]
  },
  {
   "cell_type": "markdown",
   "metadata": {
    "slideshow": {
     "slide_type": "slide"
    }
   },
   "source": [
    "## Runtime: Benchmarking\n",
    "\n",
    "Use `time` module:\n",
    "\n",
    "1. Save time immediately before code\n",
    "2. Save time immediately after code\n",
    "3. Estimate 2 – 1"
   ]
  },
  {
   "cell_type": "code",
   "execution_count": 2,
   "metadata": {
    "slideshow": {
     "slide_type": "-"
    }
   },
   "outputs": [
    {
     "name": "stdout",
     "output_type": "stream",
     "text": [
      "0.0008790493011474609\n"
     ]
    }
   ],
   "source": [
    "import time\n",
    "\n",
    "ls = list(range(100000))\n",
    "\n",
    "start = time.time()\n",
    "ls.count(99999)\n",
    "end = time.time()\n",
    "print(end - start)"
   ]
  },
  {
   "cell_type": "markdown",
   "metadata": {
    "slideshow": {
     "slide_type": "slide"
    }
   },
   "source": [
    "## Benchmarking: Repeat to Time More Accurately\n",
    "\n",
    "* Execution time can be affected by other processes running simultaneously\n",
    "* Execution time can depend on the order of execution (randomize execution order)"
   ]
  },
  {
   "cell_type": "code",
   "execution_count": 3,
   "metadata": {
    "slideshow": {
     "slide_type": "fragment"
    }
   },
   "outputs": [
    {
     "name": "stdout",
     "output_type": "stream",
     "text": [
      "0.0008678531646728516\n"
     ]
    },
    {
     "data": {
      "text/plain": [
       "0.0008166161800181726"
      ]
     },
     "execution_count": 3,
     "metadata": {},
     "output_type": "execute_result"
    }
   ],
   "source": [
    "# Do it yourself\n",
    "ls = list(range(100000))\n",
    "\n",
    "res = 0\n",
    "for i in range(100):\n",
    "    start = time.time()\n",
    "    ls.count(99999)\n",
    "    end = time.time()\n",
    "    res += end - start\n",
    "print(res / 100)\n",
    "\n",
    "# Use a module\n",
    "from timeit import timeit \n",
    "timeit(stmt='ls.count(99999)', setup='ls = list(range(100000))', number=100) / 100"
   ]
  },
  {
   "cell_type": "code",
   "execution_count": null,
   "metadata": {
    "collapsed": true,
    "slideshow": {
     "slide_type": "fragment"
    }
   },
   "outputs": [],
   "source": [
    "### R code ###\n",
    "\n",
    "require(microbenchmark)\n",
    "\n",
    "ls <- seq(0, 99999)\n",
    "microbenchmark(sum(ls == 99999))\n",
    "\n",
    "# Unit: microseconds\n",
    "#             expr     min      lq     mean  median       uq      max neval\n",
    "# sum(ls == 99999) 368.309 416.865 684.3047 559.569 706.2215 3955.864   100"
   ]
  },
  {
   "cell_type": "markdown",
   "metadata": {
    "slideshow": {
     "slide_type": "slide"
    }
   },
   "source": [
    "## Runtime: Order of Growth\n",
    "\n",
    "* Consider the worst-case scenario\n",
    "* Look at:\n",
    "    * Function and method calls \n",
    "    * Recursive calls\n",
    "    * Loops\n",
    "* Keep the term with the largest growth rate\n",
    "* Drop any constants from the remaining term"
   ]
  },
  {
   "cell_type": "markdown",
   "metadata": {},
   "source": [
    "My notes\n",
    "\n",
    "Steps to take\n",
    "\n",
    "1. Define size of inputs (e.g. length of a list, or dimensions of ..?)\n",
    "2. Label each line with its order of growth\n",
    "    ...by looking at functions and methods\n",
    "    ...recursive calls\n",
    "    ...loops\n",
    "3. add lines to complex order of growth, multiply nested loops\n",
    "4. Keep largest term only and drop constants"
   ]
  },
  {
   "cell_type": "markdown",
   "metadata": {
    "slideshow": {
     "slide_type": "slide"
    }
   },
   "source": [
    "**Exercise 1**: The following functions show the average number of operations required to perform some algorithm on a list of length $n$. Give the Big-O notation for the time complexity of each algorithm:\n",
    "\n",
    "a) $4n^2 + 2n + 2$\n",
    "\n",
    "b) $n + \\log n$\n",
    "\n",
    "c) $n \\log n$\n",
    "\n",
    "d) 3"
   ]
  },
  {
   "cell_type": "markdown",
   "metadata": {},
   "source": [
    "Answer Exercise 1:\n",
    "a) O(n squared)\n",
    "b) O(n)\n",
    "c) O(n log n)\n",
    "d) O(1)"
   ]
  },
  {
   "cell_type": "code",
   "execution_count": 4,
   "metadata": {
    "collapsed": true,
    "slideshow": {
     "slide_type": "slide"
    }
   },
   "outputs": [],
   "source": [
    "# Exercise 2: What is the order of growth of the function below?\n",
    "\n",
    "def sum_product(ls):\n",
    "    summ, product = 0, 1 # O(1)\n",
    "    for i in range(len(ls)): #O(n) - we do l things in this list, iteration is O(n)\n",
    "        summ += ls[i] #O(1)\n",
    "    for j in range(len(ls)): #O(n)\n",
    "        product *= ls[j] #O(1)\n",
    "    return summ, product\n",
    "\n",
    "# Your answer:\n",
    "# length ls = n\n",
    "# O(1 + n*1 + n*1 + 1)\n",
    "# O(2 + 2n)\n",
    "# O(n)"
   ]
  },
  {
   "cell_type": "code",
   "execution_count": 5,
   "metadata": {
    "collapsed": true,
    "scrolled": true,
    "slideshow": {
     "slide_type": "-"
    }
   },
   "outputs": [],
   "source": [
    "# Exercise 3: What is the order of growth of the function below?\n",
    "\n",
    "def combine(la, lb):\n",
    "    for i in la: # O(a)\n",
    "        for j in lb: # O(b)\n",
    "            if i < j: # O(1)\n",
    "                print(i, '-', j) #O(1)\n",
    "\n",
    "#Your answer:\n",
    "# length of la = a, length of lb = b\n",
    "# O(a * b)  This is not equal to O(n squared)!! It is polynomial but nor n-squared."
   ]
  },
  {
   "cell_type": "code",
   "execution_count": 6,
   "metadata": {
    "collapsed": true,
    "slideshow": {
     "slide_type": "-"
    }
   },
   "outputs": [],
   "source": [
    "# Exercise 4: What is the order of growth of the function below?\n",
    "\n",
    "def sum_digits(n):\n",
    "    \"\"\"Take positive integer n and sum its digits.\"\"\"\n",
    "    summ = 0 #O(1)\n",
    "    while n > 0: #how many times does this loop run? As many times as n has digits. O(1og n)\n",
    "        summ += int(n % 10) #O(1)\n",
    "        n = int(n / 10) #O(1)\n",
    "    return summ #O(1)\n",
    "\n",
    "#Answer\n",
    "# digits of n = d\n",
    "\n",
    "# d = log base 10 of n + 1\n",
    "# because:\n",
    "# if n  = 10, d =2\n",
    "# if n = 1000, d = 4\n",
    "# if n = 10000, d = 5\n"
   ]
  },
  {
   "cell_type": "code",
   "execution_count": null,
   "metadata": {
    "collapsed": true,
    "slideshow": {
     "slide_type": "slide"
    }
   },
   "outputs": [],
   "source": [
    "# Exercise 5: This is code submitted by a student for Problem 2 \n",
    "# in Assignment 3. Given an edge list of coauthors in data, \n",
    "# the task was to create a sorted list of all unique authors. \n",
    "# What is the order of growth of this code? What is wrong here? \n",
    "# How would you rewrite the code to make it more efficient?\n",
    "\n",
    "lst = [] #O(1)\n",
    "for i,j in data: # O(2*d)\n",
    "    lst.append(int(i)) #O(1)\n",
    "    unique_authors = list(set(lst)) #O(d)\n",
    "    # Erst hängt set() von d ab, dann hängt wieder list() von d ab, \n",
    "    # aber die beiden Funktionen passieren nach einander und sind nicht nested.\n",
    "    # Äquivalent zu zwei for-loops auf gleicher Einrückungsebene. \n",
    "    unique_authors.sort() #(d log d)\n",
    "\n",
    "# input size: length of data = d\n",
    "# O(d^2 log(d)))    \n",
    "\n",
    "# answer\n",
    "\n",
    "lst = [] #O(1)\n",
    "for i,j in data: # O(2*d)\n",
    "    lst.append(int(i)) #O(1)\n",
    "\n",
    "unique_authors = list(set(lst)) #O(d)\n",
    "unique_authors.sort() #(d log d)\n",
    "\n",
    "# input size: length of data = d\n",
    "# O(d log d)\n",
    "\n",
    "# FRAGE\n",
    "# The individual lines of both programs have the same Big O notation. Why does one add up to d^2 log d and one only to d log d?\n",
    "# Because you multiply the first row of the for-loop with each line of the for-loop individually, not every line in the for-loop with each other."
   ]
  },
  {
   "cell_type": "code",
   "execution_count": 7,
   "metadata": {
    "collapsed": true,
    "slideshow": {
     "slide_type": "slide"
    }
   },
   "outputs": [],
   "source": [
    "# Exercise 6: Compare the execution time for loops \n",
    "# between R and Python using Exercise 4.\n"
   ]
  },
  {
   "cell_type": "code",
   "execution_count": null,
   "metadata": {
    "collapsed": true,
    "slideshow": {
     "slide_type": "-"
    }
   },
   "outputs": [],
   "source": [
    "# Exercise 7: Create a function to multiply each element of a \n",
    "# vector `v` by a scalar `m` in R with and without a for-loop\n",
    "# and compare their execution time.\n",
    "\n",
    "### R code ###\n",
    "multiply <- function (v, m) {\n",
    "  # Write with a for-loop\n",
    "}\n",
    "\n",
    "multiply2 <- function(v, m) {\n",
    "  # Write without a for-loop\n",
    "}\n",
    " "
   ]
  },
  {
   "cell_type": "code",
   "execution_count": null,
   "metadata": {},
   "outputs": [],
   "source": [
    "def min_list(a_list):\n",
    "'''Find minimum value of a list with O(n).\n",
    "'''\n",
    "    min = a_list[0] ##O(1)\n",
    "    for i in a_list: # O(n)\n",
    "        if i < min: # O(1)\n",
    "            min = i # O(1)\n",
    "    return min # O(1)\n",
    "\n",
    "def min_list2(a_list):\n",
    "'''Find minimum value of list with order of growth O(n^2)\n",
    "'''\n",
    "   min_val = a_list[0] # O(1)\n",
    "    for i in a_list: # O(n)\n",
    "        for j in a_list: # O(n)\n",
    "            if j < min_val: # O(1)\n",
    "                min_val = j # O(1)\n",
    "    return min_val \n"
   ]
  },
  {
   "cell_type": "code",
   "execution_count": 1,
   "metadata": {},
   "outputs": [
    {
     "name": "stdout",
     "output_type": "stream",
     "text": [
      "['apple', 'orange', 'banana', 'cherry']\n"
     ]
    }
   ],
   "source": [
    "fruits = ['apple', 'banana', 'cherry']\n",
    "\n",
    "fruits.insert(1, \"orange\") \n",
    "\n",
    "print(fruits)"
   ]
  },
  {
   "cell_type": "code",
   "execution_count": 10,
   "metadata": {},
   "outputs": [
    {
     "data": {
      "text/plain": [
       "1"
      ]
     },
     "execution_count": 10,
     "metadata": {},
     "output_type": "execute_result"
    }
   ],
   "source": [
    "def find_k_min(n, k):\n",
    "    sorted_n = sorted(n)\n",
    "    k_min = sorted_n[k-1]\n",
    "    return k_min\n",
    "\n",
    "find_k_min([1,2,3,4,0], 2)\n",
    "\n",
    "#O(n log n)\n",
    "\n",
    "def find_k_min(n, k):\n",
    "    n.sort()\n",
    "    k_min = n[k-1]\n",
    "    return k_min\n",
    "\n",
    "find_k_min([1,2,3,4,0], 2)\n",
    "\n",
    "#O(n log n)"
   ]
  },
  {
   "cell_type": "code",
   "execution_count": 3,
   "metadata": {},
   "outputs": [
    {
     "data": {
      "text/plain": [
       "7.0"
      ]
     },
     "execution_count": 3,
     "metadata": {},
     "output_type": "execute_result"
    }
   ],
   "source": [
    "def taxi_fare():\n",
    "    dist = input(\"how long is the journey?\")\n",
    "    passenger = input(\"How many passengers?\")\n",
    "    fare = int(dist)*2 + int(passenger)*1.5\n",
    "    return fare\n",
    "\n",
    "taxi_fare()\n"
   ]
  },
  {
   "cell_type": "code",
   "execution_count": 7,
   "metadata": {},
   "outputs": [
    {
     "data": {
      "text/plain": [
       "'Welcome'"
      ]
     },
     "execution_count": 7,
     "metadata": {},
     "output_type": "execute_result"
    }
   ],
   "source": [
    "def password_check():\n",
    "    password = input(\"Put in password\")\n",
    "    if password == \"secret\":\n",
    "        return \"Welcome\"\n",
    "    else:\n",
    "        return \"Not welcome\"\n",
    "    \n",
    "password_check()"
   ]
  },
  {
   "cell_type": "code",
   "execution_count": 10,
   "metadata": {},
   "outputs": [
    {
     "data": {
      "text/plain": [
       "'NOT LOWER'"
      ]
     },
     "execution_count": 10,
     "metadata": {},
     "output_type": "execute_result"
    }
   ],
   "source": [
    "def  check_char(char):\n",
    "    if char == char.lower():\n",
    "        return \"LOWER\"\n",
    "    else:\n",
    "        return \"NOT LOWER\"\n",
    "    \n",
    "check_char(\"B\")"
   ]
  },
  {
   "cell_type": "code",
   "execution_count": 2,
   "metadata": {},
   "outputs": [
    {
     "data": {
      "text/plain": [
       "6.0"
      ]
     },
     "execution_count": 2,
     "metadata": {},
     "output_type": "execute_result"
    }
   ],
   "source": [
    "def calc_braking_dist(speed, wet):\n",
    "    while int(speed) > 50 and int(speed) > 10:\n",
    "        speed = input(\"Speed must be between 10 and 50. Input speed again.\")\n",
    "    else:\n",
    "        braking_dist = int(speed) /5\n",
    "        if wet == \"yes\":\n",
    "            braking_dist = braking_dist *1.5\n",
    "        return braking_dist\n",
    "    \n",
    "calc_braking_dist(1000, \"nitem\")"
   ]
  },
  {
   "cell_type": "code",
   "execution_count": 10,
   "metadata": {},
   "outputs": [
    {
     "data": {
      "text/plain": [
       "['imo', 'iNo']"
      ]
     },
     "execution_count": 10,
     "metadata": {},
     "output_type": "execute_result"
    }
   ],
   "source": [
    "def three_char_words(l1, l2, l3):\n",
    "    str_list = []\n",
    "    total_words = []\n",
    "    for item in l1:\n",
    "        if isinstance(item, str):\n",
    "            for item2 in l2:\n",
    "                if isinstance(item2, str):\n",
    "                    for item3 in l3:\n",
    "                        if isinstance(item3, str):\n",
    "                            total_words.append(item+item2+item3)\n",
    "    return total_words\n",
    "three_char_words([1, 2, \"i\"], [2, \"m\", \"N\"], [\"o\"])"
   ]
  },
  {
   "cell_type": "code",
   "execution_count": 14,
   "metadata": {},
   "outputs": [
    {
     "data": {
      "text/plain": [
       "['imo', 'iNo']"
      ]
     },
     "execution_count": 14,
     "metadata": {},
     "output_type": "execute_result"
    }
   ],
   "source": [
    "def three_char_words(l1, l2, l3):\n",
    "    str_list = []\n",
    "    total_words = []\n",
    "    for i in l1:\n",
    "        for j in l2:\n",
    "            for k in l3:\n",
    "                if isinstance(i, str) and isinstance(j, str) and isinstance(k, str):\n",
    "                    total_words.append(i + j + k)\n",
    "    total_words.r\n",
    "    return total_words\n",
    "three_char_words([1, 2, \"i\"], [2, \"m\", \"N\"], [\"o\"])"
   ]
  },
  {
   "cell_type": "code",
   "execution_count": 18,
   "metadata": {},
   "outputs": [
    {
     "data": {
      "text/plain": [
       "['mwt', 'wmt', 'wtm', 'mtw', 'tmw', 'twm']"
      ]
     },
     "execution_count": 18,
     "metadata": {},
     "output_type": "execute_result"
    }
   ],
   "source": [
    "def three_char_words(l1, l2, l3):\n",
    "\n",
    "    all_words = []\n",
    "\n",
    "    filtered_l1 = [char for char in l1 if str == type(char)]\n",
    "    filtered_l2 = [char for char in l2 if str == type(char)]\n",
    "    filtered_l3 = [char for char in l3 if str == type(char)]\n",
    "\n",
    "    for char1 in filtered_l1:\n",
    "        for char2 in filtered_l2:\n",
    "            for char3 in filtered_l3:\n",
    "                all_words.append(char1 + char2 + char3)\n",
    "                all_words.append(char2 + char1 + char3)\n",
    "                all_words.append(char2 + char3 + char1)\n",
    "                all_words.append(char1 + char3 + char2)\n",
    "                all_words.append(char3 + char1 + char2)\n",
    "                all_words.append(char3 + char2 + char1)\n",
    "    return all_words\n",
    "\n",
    "three_char_words([1,2, \"m\"], [\"w\", 3], [4, \"t\"])"
   ]
  }
 ],
 "metadata": {
  "kernelspec": {
   "display_name": "Python 3 (ipykernel)",
   "language": "python",
   "name": "python3"
  },
  "language_info": {
   "codemirror_mode": {
    "name": "ipython",
    "version": 3
   },
   "file_extension": ".py",
   "mimetype": "text/x-python",
   "name": "python",
   "nbconvert_exporter": "python",
   "pygments_lexer": "ipython3",
   "version": "3.10.9"
  }
 },
 "nbformat": 4,
 "nbformat_minor": 2
}
